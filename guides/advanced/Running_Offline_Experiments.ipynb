{
 "cells": [
  {
   "cell_type": "markdown",
   "metadata": {
    "id": "nD0FUYrfkSUT"
   },
   "source": [
    "# Install Comet"
   ]
  },
  {
   "cell_type": "code",
   "execution_count": null,
   "metadata": {
    "id": "wMWufCyZbZOx"
   },
   "outputs": [],
   "source": [
    "%pip install -U \"comet_ml>=3.44.0\""
   ]
  },
  {
   "cell_type": "markdown",
   "metadata": {
    "id": "gIyCqVw6kT7L"
   },
   "source": [
    "# Initalize Comet Project"
   ]
  },
  {
   "cell_type": "code",
   "execution_count": null,
   "metadata": {
    "id": "B2s8nND-birg"
   },
   "outputs": [],
   "source": [
    "import comet_ml\n",
    "\n",
    "comet_ml.login(project_name=\"running-offline\")"
   ]
  },
  {
   "cell_type": "markdown",
   "metadata": {
    "id": "X9YELwknkPtq"
   },
   "source": [
    "# Create an Offline Experiment"
   ]
  },
  {
   "cell_type": "code",
   "execution_count": null,
   "metadata": {
    "id": "o7UtgSB-bk6K"
   },
   "outputs": [],
   "source": [
    "experiment = comet_ml.start(online=False)\n",
    "experiment.log_metrics({\"accuracy\": 0.5, \"loss\": 0.001})\n",
    "experiment.end()"
   ]
  },
  {
   "cell_type": "markdown",
   "metadata": {
    "id": "TND_ukbJkMoS"
   },
   "source": [
    "# Upload a Completed Experiment"
   ]
  },
  {
   "cell_type": "markdown",
   "metadata": {
    "id": "zDOkoYnaka1F"
   },
   "source": [
    "Once the Experiment has finished running, you can upload it to the Comet UI with the follow command"
   ]
  },
  {
   "cell_type": "code",
   "execution_count": null,
   "metadata": {
    "id": "uo53wkSabrnW"
   },
   "outputs": [],
   "source": [
    "!comet upload /content/.cometml-runs/*.zip"
   ]
  }
 ],
 "metadata": {
  "colab": {
   "provenance": []
  },
  "kernelspec": {
   "display_name": "Python 3 (ipykernel)",
   "language": "python",
   "name": "python3"
  },
  "language_info": {
   "codemirror_mode": {
    "name": "ipython",
    "version": 3
   },
   "file_extension": ".py",
   "mimetype": "text/x-python",
   "name": "python",
   "nbconvert_exporter": "python",
   "pygments_lexer": "ipython3",
   "version": "3.9.1"
  }
 },
 "nbformat": 4,
 "nbformat_minor": 4
}
